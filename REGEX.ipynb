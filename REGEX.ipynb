{
  "nbformat": 4,
  "nbformat_minor": 0,
  "metadata": {
    "colab": {
      "provenance": [],
      "authorship_tag": "ABX9TyP0UHa87FX6lb5k2FBkb8lx",
      "include_colab_link": true
    },
    "kernelspec": {
      "name": "python3",
      "display_name": "Python 3"
    },
    "language_info": {
      "name": "python"
    }
  },
  "cells": [
    {
      "cell_type": "markdown",
      "metadata": {
        "id": "view-in-github",
        "colab_type": "text"
      },
      "source": [
        "<a href=\"https://colab.research.google.com/github/olgagasowska/Technical-Data-Analysis/blob/main/REGEX.ipynb\" target=\"_parent\"><img src=\"https://colab.research.google.com/assets/colab-badge.svg\" alt=\"Open In Colab\"/></a>"
      ]
    },
    {
      "cell_type": "code",
      "execution_count": null,
      "metadata": {
        "id": "pKhvrWOzWtdk"
      },
      "outputs": [],
      "source": [
        "#### using REGEX in python ####\n",
        "## if you want to use REGEX, you need to download a library for regex"
      ]
    },
    {
      "cell_type": "code",
      "source": [
        "import re"
      ],
      "metadata": {
        "id": "_ScGsSPXg6Ms"
      },
      "execution_count": null,
      "outputs": []
    },
    {
      "cell_type": "code",
      "source": [
        "text = \"Adam mickiewicz\""
      ],
      "metadata": {
        "id": "VVliVk3Ehof0"
      },
      "execution_count": null,
      "outputs": []
    },
    {
      "cell_type": "code",
      "source": [
        "## before writing the function: specify the name of the package\n",
        "re.match (\"[A-Z][a-z]*\", text)\n",
        "# 1st argument: regex expession; 2nd argument: variable from which we extract"
      ],
      "metadata": {
        "colab": {
          "base_uri": "https://localhost:8080/"
        },
        "id": "hQ6RNYHlhubb",
        "outputId": "52d8ddc3-a65d-452e-85f0-5ad36646873e"
      },
      "execution_count": null,
      "outputs": [
        {
          "output_type": "execute_result",
          "data": {
            "text/plain": [
              "<re.Match object; span=(0, 4), match='Adam'>"
            ]
          },
          "metadata": {},
          "execution_count": 11
        }
      ]
    },
    {
      "cell_type": "code",
      "source": [
        "## if we don't want additional info like span, you write .group after the function\n",
        "## assigning is optional here\n",
        "regex_result = re.match (\"[A-Z][a-z]*\", text).group()"
      ],
      "metadata": {
        "id": "A-RZ5QkUixF1"
      },
      "execution_count": null,
      "outputs": []
    },
    {
      "cell_type": "code",
      "source": [
        "print(regex_result)"
      ],
      "metadata": {
        "colab": {
          "base_uri": "https://localhost:8080/"
        },
        "id": "ULLuRN5RjJj_",
        "outputId": "2c38efef-3454-48cd-e89a-8f5f7d246b8e"
      },
      "execution_count": null,
      "outputs": [
        {
          "output_type": "stream",
          "name": "stdout",
          "text": [
            "Adam\n"
          ]
        }
      ]
    },
    {
      "cell_type": "code",
      "source": [
        "text2 = \"Adam loves Marysia\"\n",
        "## finding all substrings in out string:\n",
        "\n",
        "regex_list = re.findall (\"[A-Z][a-z]*\", text2)"
      ],
      "metadata": {
        "id": "ixnzNs4XjY1t"
      },
      "execution_count": null,
      "outputs": []
    },
    {
      "cell_type": "code",
      "source": [
        "regex_list"
      ],
      "metadata": {
        "colab": {
          "base_uri": "https://localhost:8080/"
        },
        "id": "bqKqAOc5kLBi",
        "outputId": "d76ff18c-c762-4036-e475-41875a317c3c"
      },
      "execution_count": null,
      "outputs": [
        {
          "output_type": "execute_result",
          "data": {
            "text/plain": [
              "['Adam', 'Marysia']"
            ]
          },
          "metadata": {},
          "execution_count": 20
        }
      ]
    },
    {
      "cell_type": "code",
      "source": [
        "import regex\n",
        "## it is all the same but there're some additional elements and a bit fater than \"re\""
      ],
      "metadata": {
        "id": "Fc1hEOKHkQxL"
      },
      "execution_count": null,
      "outputs": []
    },
    {
      "cell_type": "code",
      "source": [
        "## import regex and overwrite it with re, the code is the same but the regex functions\n",
        "import regex as re"
      ],
      "metadata": {
        "id": "wrjCGJO8ko0o"
      },
      "execution_count": null,
      "outputs": []
    },
    {
      "cell_type": "code",
      "source": [],
      "metadata": {
        "id": "lUW3qiw5k-Ms"
      },
      "execution_count": null,
      "outputs": []
    }
  ]
}