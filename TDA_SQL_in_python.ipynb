{
  "nbformat": 4,
  "nbformat_minor": 0,
  "metadata": {
    "colab": {
      "provenance": [],
      "authorship_tag": "ABX9TyM+OVZ1xKIBodQDdcRKVGvd",
      "include_colab_link": true
    },
    "kernelspec": {
      "name": "python3",
      "display_name": "Python 3"
    },
    "language_info": {
      "name": "python"
    }
  },
  "cells": [
    {
      "cell_type": "markdown",
      "metadata": {
        "id": "view-in-github",
        "colab_type": "text"
      },
      "source": [
        "<a href=\"https://colab.research.google.com/github/olgagasowska/Technical-Data-Analysis/blob/main/TDA_SQL_in_python.ipynb\" target=\"_parent\"><img src=\"https://colab.research.google.com/assets/colab-badge.svg\" alt=\"Open In Colab\"/></a>"
      ]
    },
    {
      "cell_type": "code",
      "execution_count": null,
      "metadata": {
        "colab": {
          "base_uri": "https://localhost:8080/"
        },
        "id": "MC-ZaVVUaLzH",
        "outputId": "ad3f615f-8c79-40ab-ba14-a680f9c5f883"
      },
      "outputs": [
        {
          "output_type": "stream",
          "name": "stdout",
          "text": [
            "\u001b[31mERROR: Could not find a version that satisfies the requirement sqlite3 (from versions: none)\u001b[0m\u001b[31m\n",
            "\u001b[0m\u001b[31mERROR: No matching distribution found for sqlite3\u001b[0m\u001b[31m\n",
            "\u001b[0m"
          ]
        }
      ],
      "source": [
        "## implementing SQL in Python: sqlite3\n",
        "\n",
        "!pip install sqlite3"
      ]
    },
    {
      "cell_type": "code",
      "source": [
        "import sqlite3"
      ],
      "metadata": {
        "id": "OsMLhqAjcfK0"
      },
      "execution_count": null,
      "outputs": []
    },
    {
      "cell_type": "code",
      "source": [
        "# connector, it opens a ne file in the files in Colab, establishing connection\n",
        "conn = sqlite3.connect('database.db')\n"
      ],
      "metadata": {
        "id": "qRXBa42Scjug"
      },
      "execution_count": null,
      "outputs": []
    },
    {
      "cell_type": "code",
      "source": [
        "cursor = conn.cursor() # I want to use that connection between file and colab and interact with it via cursor\n",
        "# establishing the interaction"
      ],
      "metadata": {
        "id": "q0KZdFsId56O"
      },
      "execution_count": null,
      "outputs": []
    },
    {
      "cell_type": "code",
      "source": [
        "# everything that is within the brackers is an sql query\n",
        "# real = float number\n",
        "cursor.execute(\"CREATE TABLE students (name TEXT, grade REAL)\")"
      ],
      "metadata": {
        "colab": {
          "base_uri": "https://localhost:8080/"
        },
        "id": "Lz46MkQGeM8I",
        "outputId": "69b05889-17d1-4a00-a145-da548bfb7569"
      },
      "execution_count": null,
      "outputs": [
        {
          "output_type": "execute_result",
          "data": {
            "text/plain": [
              "<sqlite3.Cursor at 0x7955744c3f40>"
            ]
          },
          "metadata": {},
          "execution_count": 5
        }
      ]
    },
    {
      "cell_type": "code",
      "source": [
        "# now you can see the executed thing"
      ],
      "metadata": {
        "id": "tRPvSz-vfEC3"
      },
      "execution_count": null,
      "outputs": []
    },
    {
      "cell_type": "code",
      "source": [
        "cursor.execute(\"INSERT INTO students VALUES ('John', 4)\") # in \"execute\" we put only one thing"
      ],
      "metadata": {
        "colab": {
          "base_uri": "https://localhost:8080/"
        },
        "id": "75J3M89xfITw",
        "outputId": "3b6e2bc9-e0b9-4f4c-ffe8-188e8eeac66f"
      },
      "execution_count": null,
      "outputs": [
        {
          "output_type": "execute_result",
          "data": {
            "text/plain": [
              "<sqlite3.Cursor at 0x7955744c3f40>"
            ]
          },
          "metadata": {},
          "execution_count": 6
        }
      ]
    },
    {
      "cell_type": "code",
      "source": [
        "cursor.execute(\"SELECT * FROM students\")"
      ],
      "metadata": {
        "colab": {
          "base_uri": "https://localhost:8080/"
        },
        "id": "gi88MbJEfuiE",
        "outputId": "788ec547-559e-453d-c2cf-0e20f47967ce"
      },
      "execution_count": null,
      "outputs": [
        {
          "output_type": "execute_result",
          "data": {
            "text/plain": [
              "<sqlite3.Cursor at 0x7955744c3f40>"
            ]
          },
          "metadata": {},
          "execution_count": 7
        }
      ]
    },
    {
      "cell_type": "code",
      "source": [
        "all_students = cursor.fetchall() # assigning it to the variable all_students"
      ],
      "metadata": {
        "id": "dqH_9cuJgFIv"
      },
      "execution_count": null,
      "outputs": []
    },
    {
      "cell_type": "code",
      "source": [
        "all_students"
      ],
      "metadata": {
        "colab": {
          "base_uri": "https://localhost:8080/"
        },
        "id": "CrsfjPGEgKjn",
        "outputId": "f3d31dd9-d226-4dea-8cfa-b913fadbce8d"
      },
      "execution_count": null,
      "outputs": [
        {
          "output_type": "execute_result",
          "data": {
            "text/plain": [
              "[('John', 4.0)]"
            ]
          },
          "metadata": {},
          "execution_count": 9
        }
      ]
    },
    {
      "cell_type": "code",
      "source": [
        "# creating an empty liat we can include into\n",
        "students_list = [(\"Mary\", 3), (\"Patrick\", 2)]"
      ],
      "metadata": {
        "id": "kekHJQT8hTyC"
      },
      "execution_count": null,
      "outputs": []
    },
    {
      "cell_type": "code",
      "source": [
        "# inserting more values\n",
        "cursor.executemany(\"INSERT INTO students (name, grade) VALUES (?, ?)\", students_list) # let's put sth in this format\n",
        "# we want to fill name and grade with values: value a separated by comma from value b"
      ],
      "metadata": {
        "colab": {
          "base_uri": "https://localhost:8080/"
        },
        "id": "MFnRU8P6g8fp",
        "outputId": "59a3ac0c-3685-4fcf-cdcb-b9b0f75e87ac"
      },
      "execution_count": null,
      "outputs": [
        {
          "output_type": "execute_result",
          "data": {
            "text/plain": [
              "<sqlite3.Cursor at 0x7955744c3f40>"
            ]
          },
          "metadata": {},
          "execution_count": 16
        }
      ]
    },
    {
      "cell_type": "code",
      "source": [
        "all_students = cursor.fetchall()"
      ],
      "metadata": {
        "id": "WyCiGBe_kaQY"
      },
      "execution_count": null,
      "outputs": []
    },
    {
      "cell_type": "code",
      "source": [
        "print(all_students)"
      ],
      "metadata": {
        "colab": {
          "base_uri": "https://localhost:8080/"
        },
        "id": "1O4Uvm3HkfML",
        "outputId": "c554519a-b54a-430d-f991-ae78b9859cf4"
      },
      "execution_count": null,
      "outputs": [
        {
          "output_type": "stream",
          "name": "stdout",
          "text": [
            "[]\n"
          ]
        }
      ]
    }
  ]
}