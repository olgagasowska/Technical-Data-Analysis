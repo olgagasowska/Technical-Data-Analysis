{
  "nbformat": 4,
  "nbformat_minor": 0,
  "metadata": {
    "colab": {
      "provenance": [],
      "authorship_tag": "ABX9TyOBkhCAto/drm1yv+Y5MqV9",
      "include_colab_link": true
    },
    "kernelspec": {
      "name": "python3",
      "display_name": "Python 3"
    },
    "language_info": {
      "name": "python"
    }
  },
  "cells": [
    {
      "cell_type": "markdown",
      "metadata": {
        "id": "view-in-github",
        "colab_type": "text"
      },
      "source": [
        "<a href=\"https://colab.research.google.com/github/olgagasowska/Technical-Data-Analysis/blob/main/TDA%2C_dataframes%2C_json%2C_requests%2C_%22Wolne_Lektury_API%22.ipynb\" target=\"_parent\"><img src=\"https://colab.research.google.com/assets/colab-badge.svg\" alt=\"Open In Colab\"/></a>"
      ]
    },
    {
      "cell_type": "code",
      "execution_count": 1,
      "metadata": {
        "id": "rhzrvqg6_9CD"
      },
      "outputs": [],
      "source": [
        "import pandas as pd\n",
        "import requests\n",
        "import json\n",
        "import tqdm\n",
        "import os"
      ]
    },
    {
      "cell_type": "code",
      "source": [
        "BASE_URL = \"https://wolnelektury.pl/api/\""
      ],
      "metadata": {
        "id": "LFfm6fr_AB1k"
      },
      "execution_count": 2,
      "outputs": []
    },
    {
      "cell_type": "code",
      "source": [
        "# BOOK:"
      ],
      "metadata": {
        "id": "7xRRUGiLkFGK"
      },
      "execution_count": 3,
      "outputs": []
    },
    {
      "cell_type": "code",
      "source": [
        "def fetch_data(endpoint):\n",
        "  url = f\"{BASE_URL}{endpoint}/\"\n",
        "  response = requests.get(url)\n",
        "  if response.status_code == 200:\n",
        "    data = response.json()\n",
        "    return data\n",
        "  else:\n",
        "    print(\"Something went wrong\")\n",
        "\n",
        "def convert_to_dataframe (data_convert):\n",
        "  if data_book:\n",
        "    df = pd.DataFrame(data_convert)\n",
        "    return df\n",
        "  else:\n",
        "    print (\"No data\")\n",
        "  df = pd.Dataframe(data_convert)\n",
        "\n",
        "\n",
        "def extract_slug(df, title):\n",
        "  book = df[df[\"title\"] == title][\"slug\"]\n",
        "  book_list = list(book)\n",
        "  if len(book_list) == 1:\n",
        "    slug = book_list[0]\n",
        "    return slug\n",
        "\n",
        "\n",
        "def save_csv (df, filename):\n",
        "  df.to_csv(filename)\n",
        "  if os.path.exists(filename):\n",
        "    print(\"File saved\")\n",
        "  else:\n",
        "    print (\"File not saved\")"
      ],
      "metadata": {
        "id": "dvFLef_O_-W-"
      },
      "execution_count": 15,
      "outputs": []
    },
    {
      "cell_type": "code",
      "source": [
        "data_book = fetch_data(\"books\")"
      ],
      "metadata": {
        "collapsed": true,
        "id": "17Fsj9iEAKER"
      },
      "execution_count": 16,
      "outputs": []
    },
    {
      "cell_type": "code",
      "source": [
        "df = convert_to_dataframe(data_book)"
      ],
      "metadata": {
        "id": "Db6PbNr-Aii0"
      },
      "execution_count": 17,
      "outputs": []
    },
    {
      "cell_type": "code",
      "source": [
        "slug = extract_slug (df, \"Wierzby w polu\")\n",
        "print(slug)"
      ],
      "metadata": {
        "colab": {
          "base_uri": "https://localhost:8080/"
        },
        "id": "TzjUFPbPBMKB",
        "outputId": "2a294fad-ae60-472f-92e5-139b69a783d5"
      },
      "execution_count": 18,
      "outputs": [
        {
          "output_type": "stream",
          "name": "stdout",
          "text": [
            "impresye-wierzby-w-polu\n"
          ]
        }
      ]
    },
    {
      "cell_type": "code",
      "source": [
        "save_csv(df, \"data_books_file\")"
      ],
      "metadata": {
        "colab": {
          "base_uri": "https://localhost:8080/"
        },
        "id": "za08wdCWqGvI",
        "outputId": "096a5c65-0263-4c59-fc46-10ab70913a11"
      },
      "execution_count": 19,
      "outputs": [
        {
          "output_type": "stream",
          "name": "stdout",
          "text": [
            "File saved\n"
          ]
        }
      ]
    },
    {
      "cell_type": "code",
      "source": [
        "- retrieves data for a single author and a single book using slug\n",
        "- saves the data to a json file\n",
        "- writes data to csv file\n",
        "\n",
        "Write the code using your own functions\n"
      ],
      "metadata": {
        "id": "IHxSH0CdkHBY"
      },
      "execution_count": null,
      "outputs": []
    },
    {
      "cell_type": "code",
      "source": [
        "#AUTHOR"
      ],
      "metadata": {
        "id": "9Eg2OvsAk83z"
      },
      "execution_count": null,
      "outputs": []
    },
    {
      "cell_type": "code",
      "source": [
        "def fetch_data(endpoint):\n",
        "  url = f\"{BASE_URL}{endpoint}/\"\n",
        "  response = requests.get(url)\n",
        "  if response.status_code == 200:\n",
        "    data = response.json()\n",
        "    return data\n",
        "  else:\n",
        "    print(\"Something went wrong\")\n",
        "\n",
        "\n",
        "def convert_to_dataframe (data):\n",
        "  if data:\n",
        "    df = pd.DataFrame(data)\n",
        "    return df\n",
        "  else:\n",
        "    print(\"No data\")\n",
        "\n",
        "\n",
        "def extract_slug(df, name):\n",
        "  author = df[df[\"name\"] == name][\"slug\"]\n",
        "  author_list = list(author)\n",
        "  if len(author_list) == 1:\n",
        "    slug = author_list[0]\n",
        "    return slug\n",
        "\n",
        "def save_csv (df, filename):\n",
        "  df.to_csv(filename)\n",
        "  if os.path.exists(filename):\n",
        "    print(\"File saved\")\n",
        "  else:\n",
        "    print (\"File not saved\")"
      ],
      "metadata": {
        "id": "QyEY8eZYk-Jq"
      },
      "execution_count": 9,
      "outputs": []
    },
    {
      "cell_type": "code",
      "source": [
        "df = fetch_data(\"authors\")"
      ],
      "metadata": {
        "id": "IoXd9U25lXQ9"
      },
      "execution_count": 10,
      "outputs": []
    },
    {
      "cell_type": "code",
      "source": [
        "data_author = convert_to_dataframe(df)"
      ],
      "metadata": {
        "id": "Fhoc2tCmlhAR"
      },
      "execution_count": 11,
      "outputs": []
    },
    {
      "cell_type": "code",
      "source": [
        "data_author"
      ],
      "metadata": {
        "colab": {
          "base_uri": "https://localhost:8080/",
          "height": 419
        },
        "id": "XBHGEItZnL-W",
        "outputId": "c455c112-ba00-4989-dc0d-446c2b98cd05"
      },
      "execution_count": 12,
      "outputs": [
        {
          "output_type": "execute_result",
          "data": {
            "text/plain": [
              "                                                   url  \\\n",
              "0    https://wolnelektury.pl/katalog/autor/adam-asnyk/   \n",
              "1    https://wolnelektury.pl/katalog/autor/adam-kac...   \n",
              "2    https://wolnelektury.pl/katalog/autor/adam-mic...   \n",
              "3    https://wolnelektury.pl/katalog/autor/adam-m-ski/   \n",
              "4    https://wolnelektury.pl/katalog/autor/adam-wie...   \n",
              "..                                                 ...   \n",
              "546  https://wolnelektury.pl/katalog/autor/zygmunt-...   \n",
              "547  https://wolnelektury.pl/katalog/autor/zygmunt-...   \n",
              "548  https://wolnelektury.pl/katalog/autor/zygmunt-...   \n",
              "549  https://wolnelektury.pl/katalog/autor/zygmunt-...   \n",
              "550  https://wolnelektury.pl/katalog/autor/zygmunt-...   \n",
              "\n",
              "                                                  href  \\\n",
              "0      https://wolnelektury.pl/api/authors/adam-asnyk/   \n",
              "1    https://wolnelektury.pl/api/authors/adam-kacza...   \n",
              "2    https://wolnelektury.pl/api/authors/adam-micki...   \n",
              "3      https://wolnelektury.pl/api/authors/adam-m-ski/   \n",
              "4    https://wolnelektury.pl/api/authors/adam-wiede...   \n",
              "..                                                 ...   \n",
              "546  https://wolnelektury.pl/api/authors/zygmunt-gl...   \n",
              "547  https://wolnelektury.pl/api/authors/zygmunt-ka...   \n",
              "548  https://wolnelektury.pl/api/authors/zygmunt-kr...   \n",
              "549  https://wolnelektury.pl/api/authors/zygmunt-mi...   \n",
              "550  https://wolnelektury.pl/api/authors/zygmunt-pr...   \n",
              "\n",
              "                                         name                slug  \n",
              "0                                  Adam Asnyk          adam-asnyk  \n",
              "1                            Adam Kaczanowski    adam-kaczanowski  \n",
              "2                             Adam Mickiewicz     adam-mickiewicz  \n",
              "3    Adam M-ski (Właśc. Zofia Trzeszczkowska)          adam-m-ski  \n",
              "4                              Adam Wiedemann      adam-wiedemann  \n",
              "..                                        ...                 ...  \n",
              "546                            Zygmunt Gloger      zygmunt-gloger  \n",
              "547                        Zygmunt Kaczkowski  zygmunt-kaczkowski  \n",
              "548                         Zygmunt Krasiński   zygmunt-krasinski  \n",
              "549                         Zygmunt Miłkowski   zygmunt-milkowski  \n",
              "550                        Zygmunt Przybylski  zygmunt-przybylski  \n",
              "\n",
              "[551 rows x 4 columns]"
            ],
            "text/html": [
              "\n",
              "  <div id=\"df-1c4386f1-3996-4a75-bf25-729e0feb9679\" class=\"colab-df-container\">\n",
              "    <div>\n",
              "<style scoped>\n",
              "    .dataframe tbody tr th:only-of-type {\n",
              "        vertical-align: middle;\n",
              "    }\n",
              "\n",
              "    .dataframe tbody tr th {\n",
              "        vertical-align: top;\n",
              "    }\n",
              "\n",
              "    .dataframe thead th {\n",
              "        text-align: right;\n",
              "    }\n",
              "</style>\n",
              "<table border=\"1\" class=\"dataframe\">\n",
              "  <thead>\n",
              "    <tr style=\"text-align: right;\">\n",
              "      <th></th>\n",
              "      <th>url</th>\n",
              "      <th>href</th>\n",
              "      <th>name</th>\n",
              "      <th>slug</th>\n",
              "    </tr>\n",
              "  </thead>\n",
              "  <tbody>\n",
              "    <tr>\n",
              "      <th>0</th>\n",
              "      <td>https://wolnelektury.pl/katalog/autor/adam-asnyk/</td>\n",
              "      <td>https://wolnelektury.pl/api/authors/adam-asnyk/</td>\n",
              "      <td>Adam Asnyk</td>\n",
              "      <td>adam-asnyk</td>\n",
              "    </tr>\n",
              "    <tr>\n",
              "      <th>1</th>\n",
              "      <td>https://wolnelektury.pl/katalog/autor/adam-kac...</td>\n",
              "      <td>https://wolnelektury.pl/api/authors/adam-kacza...</td>\n",
              "      <td>Adam Kaczanowski</td>\n",
              "      <td>adam-kaczanowski</td>\n",
              "    </tr>\n",
              "    <tr>\n",
              "      <th>2</th>\n",
              "      <td>https://wolnelektury.pl/katalog/autor/adam-mic...</td>\n",
              "      <td>https://wolnelektury.pl/api/authors/adam-micki...</td>\n",
              "      <td>Adam Mickiewicz</td>\n",
              "      <td>adam-mickiewicz</td>\n",
              "    </tr>\n",
              "    <tr>\n",
              "      <th>3</th>\n",
              "      <td>https://wolnelektury.pl/katalog/autor/adam-m-ski/</td>\n",
              "      <td>https://wolnelektury.pl/api/authors/adam-m-ski/</td>\n",
              "      <td>Adam M-ski (Właśc. Zofia Trzeszczkowska)</td>\n",
              "      <td>adam-m-ski</td>\n",
              "    </tr>\n",
              "    <tr>\n",
              "      <th>4</th>\n",
              "      <td>https://wolnelektury.pl/katalog/autor/adam-wie...</td>\n",
              "      <td>https://wolnelektury.pl/api/authors/adam-wiede...</td>\n",
              "      <td>Adam Wiedemann</td>\n",
              "      <td>adam-wiedemann</td>\n",
              "    </tr>\n",
              "    <tr>\n",
              "      <th>...</th>\n",
              "      <td>...</td>\n",
              "      <td>...</td>\n",
              "      <td>...</td>\n",
              "      <td>...</td>\n",
              "    </tr>\n",
              "    <tr>\n",
              "      <th>546</th>\n",
              "      <td>https://wolnelektury.pl/katalog/autor/zygmunt-...</td>\n",
              "      <td>https://wolnelektury.pl/api/authors/zygmunt-gl...</td>\n",
              "      <td>Zygmunt Gloger</td>\n",
              "      <td>zygmunt-gloger</td>\n",
              "    </tr>\n",
              "    <tr>\n",
              "      <th>547</th>\n",
              "      <td>https://wolnelektury.pl/katalog/autor/zygmunt-...</td>\n",
              "      <td>https://wolnelektury.pl/api/authors/zygmunt-ka...</td>\n",
              "      <td>Zygmunt Kaczkowski</td>\n",
              "      <td>zygmunt-kaczkowski</td>\n",
              "    </tr>\n",
              "    <tr>\n",
              "      <th>548</th>\n",
              "      <td>https://wolnelektury.pl/katalog/autor/zygmunt-...</td>\n",
              "      <td>https://wolnelektury.pl/api/authors/zygmunt-kr...</td>\n",
              "      <td>Zygmunt Krasiński</td>\n",
              "      <td>zygmunt-krasinski</td>\n",
              "    </tr>\n",
              "    <tr>\n",
              "      <th>549</th>\n",
              "      <td>https://wolnelektury.pl/katalog/autor/zygmunt-...</td>\n",
              "      <td>https://wolnelektury.pl/api/authors/zygmunt-mi...</td>\n",
              "      <td>Zygmunt Miłkowski</td>\n",
              "      <td>zygmunt-milkowski</td>\n",
              "    </tr>\n",
              "    <tr>\n",
              "      <th>550</th>\n",
              "      <td>https://wolnelektury.pl/katalog/autor/zygmunt-...</td>\n",
              "      <td>https://wolnelektury.pl/api/authors/zygmunt-pr...</td>\n",
              "      <td>Zygmunt Przybylski</td>\n",
              "      <td>zygmunt-przybylski</td>\n",
              "    </tr>\n",
              "  </tbody>\n",
              "</table>\n",
              "<p>551 rows × 4 columns</p>\n",
              "</div>\n",
              "    <div class=\"colab-df-buttons\">\n",
              "\n",
              "  <div class=\"colab-df-container\">\n",
              "    <button class=\"colab-df-convert\" onclick=\"convertToInteractive('df-1c4386f1-3996-4a75-bf25-729e0feb9679')\"\n",
              "            title=\"Convert this dataframe to an interactive table.\"\n",
              "            style=\"display:none;\">\n",
              "\n",
              "  <svg xmlns=\"http://www.w3.org/2000/svg\" height=\"24px\" viewBox=\"0 -960 960 960\">\n",
              "    <path d=\"M120-120v-720h720v720H120Zm60-500h600v-160H180v160Zm220 220h160v-160H400v160Zm0 220h160v-160H400v160ZM180-400h160v-160H180v160Zm440 0h160v-160H620v160ZM180-180h160v-160H180v160Zm440 0h160v-160H620v160Z\"/>\n",
              "  </svg>\n",
              "    </button>\n",
              "\n",
              "  <style>\n",
              "    .colab-df-container {\n",
              "      display:flex;\n",
              "      gap: 12px;\n",
              "    }\n",
              "\n",
              "    .colab-df-convert {\n",
              "      background-color: #E8F0FE;\n",
              "      border: none;\n",
              "      border-radius: 50%;\n",
              "      cursor: pointer;\n",
              "      display: none;\n",
              "      fill: #1967D2;\n",
              "      height: 32px;\n",
              "      padding: 0 0 0 0;\n",
              "      width: 32px;\n",
              "    }\n",
              "\n",
              "    .colab-df-convert:hover {\n",
              "      background-color: #E2EBFA;\n",
              "      box-shadow: 0px 1px 2px rgba(60, 64, 67, 0.3), 0px 1px 3px 1px rgba(60, 64, 67, 0.15);\n",
              "      fill: #174EA6;\n",
              "    }\n",
              "\n",
              "    .colab-df-buttons div {\n",
              "      margin-bottom: 4px;\n",
              "    }\n",
              "\n",
              "    [theme=dark] .colab-df-convert {\n",
              "      background-color: #3B4455;\n",
              "      fill: #D2E3FC;\n",
              "    }\n",
              "\n",
              "    [theme=dark] .colab-df-convert:hover {\n",
              "      background-color: #434B5C;\n",
              "      box-shadow: 0px 1px 3px 1px rgba(0, 0, 0, 0.15);\n",
              "      filter: drop-shadow(0px 1px 2px rgba(0, 0, 0, 0.3));\n",
              "      fill: #FFFFFF;\n",
              "    }\n",
              "  </style>\n",
              "\n",
              "    <script>\n",
              "      const buttonEl =\n",
              "        document.querySelector('#df-1c4386f1-3996-4a75-bf25-729e0feb9679 button.colab-df-convert');\n",
              "      buttonEl.style.display =\n",
              "        google.colab.kernel.accessAllowed ? 'block' : 'none';\n",
              "\n",
              "      async function convertToInteractive(key) {\n",
              "        const element = document.querySelector('#df-1c4386f1-3996-4a75-bf25-729e0feb9679');\n",
              "        const dataTable =\n",
              "          await google.colab.kernel.invokeFunction('convertToInteractive',\n",
              "                                                    [key], {});\n",
              "        if (!dataTable) return;\n",
              "\n",
              "        const docLinkHtml = 'Like what you see? Visit the ' +\n",
              "          '<a target=\"_blank\" href=https://colab.research.google.com/notebooks/data_table.ipynb>data table notebook</a>'\n",
              "          + ' to learn more about interactive tables.';\n",
              "        element.innerHTML = '';\n",
              "        dataTable['output_type'] = 'display_data';\n",
              "        await google.colab.output.renderOutput(dataTable, element);\n",
              "        const docLink = document.createElement('div');\n",
              "        docLink.innerHTML = docLinkHtml;\n",
              "        element.appendChild(docLink);\n",
              "      }\n",
              "    </script>\n",
              "  </div>\n",
              "\n",
              "\n",
              "<div id=\"df-497fe116-e556-40e4-9d78-90a56e721c28\">\n",
              "  <button class=\"colab-df-quickchart\" onclick=\"quickchart('df-497fe116-e556-40e4-9d78-90a56e721c28')\"\n",
              "            title=\"Suggest charts\"\n",
              "            style=\"display:none;\">\n",
              "\n",
              "<svg xmlns=\"http://www.w3.org/2000/svg\" height=\"24px\"viewBox=\"0 0 24 24\"\n",
              "     width=\"24px\">\n",
              "    <g>\n",
              "        <path d=\"M19 3H5c-1.1 0-2 .9-2 2v14c0 1.1.9 2 2 2h14c1.1 0 2-.9 2-2V5c0-1.1-.9-2-2-2zM9 17H7v-7h2v7zm4 0h-2V7h2v10zm4 0h-2v-4h2v4z\"/>\n",
              "    </g>\n",
              "</svg>\n",
              "  </button>\n",
              "\n",
              "<style>\n",
              "  .colab-df-quickchart {\n",
              "      --bg-color: #E8F0FE;\n",
              "      --fill-color: #1967D2;\n",
              "      --hover-bg-color: #E2EBFA;\n",
              "      --hover-fill-color: #174EA6;\n",
              "      --disabled-fill-color: #AAA;\n",
              "      --disabled-bg-color: #DDD;\n",
              "  }\n",
              "\n",
              "  [theme=dark] .colab-df-quickchart {\n",
              "      --bg-color: #3B4455;\n",
              "      --fill-color: #D2E3FC;\n",
              "      --hover-bg-color: #434B5C;\n",
              "      --hover-fill-color: #FFFFFF;\n",
              "      --disabled-bg-color: #3B4455;\n",
              "      --disabled-fill-color: #666;\n",
              "  }\n",
              "\n",
              "  .colab-df-quickchart {\n",
              "    background-color: var(--bg-color);\n",
              "    border: none;\n",
              "    border-radius: 50%;\n",
              "    cursor: pointer;\n",
              "    display: none;\n",
              "    fill: var(--fill-color);\n",
              "    height: 32px;\n",
              "    padding: 0;\n",
              "    width: 32px;\n",
              "  }\n",
              "\n",
              "  .colab-df-quickchart:hover {\n",
              "    background-color: var(--hover-bg-color);\n",
              "    box-shadow: 0 1px 2px rgba(60, 64, 67, 0.3), 0 1px 3px 1px rgba(60, 64, 67, 0.15);\n",
              "    fill: var(--button-hover-fill-color);\n",
              "  }\n",
              "\n",
              "  .colab-df-quickchart-complete:disabled,\n",
              "  .colab-df-quickchart-complete:disabled:hover {\n",
              "    background-color: var(--disabled-bg-color);\n",
              "    fill: var(--disabled-fill-color);\n",
              "    box-shadow: none;\n",
              "  }\n",
              "\n",
              "  .colab-df-spinner {\n",
              "    border: 2px solid var(--fill-color);\n",
              "    border-color: transparent;\n",
              "    border-bottom-color: var(--fill-color);\n",
              "    animation:\n",
              "      spin 1s steps(1) infinite;\n",
              "  }\n",
              "\n",
              "  @keyframes spin {\n",
              "    0% {\n",
              "      border-color: transparent;\n",
              "      border-bottom-color: var(--fill-color);\n",
              "      border-left-color: var(--fill-color);\n",
              "    }\n",
              "    20% {\n",
              "      border-color: transparent;\n",
              "      border-left-color: var(--fill-color);\n",
              "      border-top-color: var(--fill-color);\n",
              "    }\n",
              "    30% {\n",
              "      border-color: transparent;\n",
              "      border-left-color: var(--fill-color);\n",
              "      border-top-color: var(--fill-color);\n",
              "      border-right-color: var(--fill-color);\n",
              "    }\n",
              "    40% {\n",
              "      border-color: transparent;\n",
              "      border-right-color: var(--fill-color);\n",
              "      border-top-color: var(--fill-color);\n",
              "    }\n",
              "    60% {\n",
              "      border-color: transparent;\n",
              "      border-right-color: var(--fill-color);\n",
              "    }\n",
              "    80% {\n",
              "      border-color: transparent;\n",
              "      border-right-color: var(--fill-color);\n",
              "      border-bottom-color: var(--fill-color);\n",
              "    }\n",
              "    90% {\n",
              "      border-color: transparent;\n",
              "      border-bottom-color: var(--fill-color);\n",
              "    }\n",
              "  }\n",
              "</style>\n",
              "\n",
              "  <script>\n",
              "    async function quickchart(key) {\n",
              "      const quickchartButtonEl =\n",
              "        document.querySelector('#' + key + ' button');\n",
              "      quickchartButtonEl.disabled = true;  // To prevent multiple clicks.\n",
              "      quickchartButtonEl.classList.add('colab-df-spinner');\n",
              "      try {\n",
              "        const charts = await google.colab.kernel.invokeFunction(\n",
              "            'suggestCharts', [key], {});\n",
              "      } catch (error) {\n",
              "        console.error('Error during call to suggestCharts:', error);\n",
              "      }\n",
              "      quickchartButtonEl.classList.remove('colab-df-spinner');\n",
              "      quickchartButtonEl.classList.add('colab-df-quickchart-complete');\n",
              "    }\n",
              "    (() => {\n",
              "      let quickchartButtonEl =\n",
              "        document.querySelector('#df-497fe116-e556-40e4-9d78-90a56e721c28 button');\n",
              "      quickchartButtonEl.style.display =\n",
              "        google.colab.kernel.accessAllowed ? 'block' : 'none';\n",
              "    })();\n",
              "  </script>\n",
              "</div>\n",
              "\n",
              "  <div id=\"id_14209f82-af41-4b85-91d6-f2cf812f87a4\">\n",
              "    <style>\n",
              "      .colab-df-generate {\n",
              "        background-color: #E8F0FE;\n",
              "        border: none;\n",
              "        border-radius: 50%;\n",
              "        cursor: pointer;\n",
              "        display: none;\n",
              "        fill: #1967D2;\n",
              "        height: 32px;\n",
              "        padding: 0 0 0 0;\n",
              "        width: 32px;\n",
              "      }\n",
              "\n",
              "      .colab-df-generate:hover {\n",
              "        background-color: #E2EBFA;\n",
              "        box-shadow: 0px 1px 2px rgba(60, 64, 67, 0.3), 0px 1px 3px 1px rgba(60, 64, 67, 0.15);\n",
              "        fill: #174EA6;\n",
              "      }\n",
              "\n",
              "      [theme=dark] .colab-df-generate {\n",
              "        background-color: #3B4455;\n",
              "        fill: #D2E3FC;\n",
              "      }\n",
              "\n",
              "      [theme=dark] .colab-df-generate:hover {\n",
              "        background-color: #434B5C;\n",
              "        box-shadow: 0px 1px 3px 1px rgba(0, 0, 0, 0.15);\n",
              "        filter: drop-shadow(0px 1px 2px rgba(0, 0, 0, 0.3));\n",
              "        fill: #FFFFFF;\n",
              "      }\n",
              "    </style>\n",
              "    <button class=\"colab-df-generate\" onclick=\"generateWithVariable('data_author')\"\n",
              "            title=\"Generate code using this dataframe.\"\n",
              "            style=\"display:none;\">\n",
              "\n",
              "  <svg xmlns=\"http://www.w3.org/2000/svg\" height=\"24px\"viewBox=\"0 0 24 24\"\n",
              "       width=\"24px\">\n",
              "    <path d=\"M7,19H8.4L18.45,9,17,7.55,7,17.6ZM5,21V16.75L18.45,3.32a2,2,0,0,1,2.83,0l1.4,1.43a1.91,1.91,0,0,1,.58,1.4,1.91,1.91,0,0,1-.58,1.4L9.25,21ZM18.45,9,17,7.55Zm-12,3A5.31,5.31,0,0,0,4.9,8.1,5.31,5.31,0,0,0,1,6.5,5.31,5.31,0,0,0,4.9,4.9,5.31,5.31,0,0,0,6.5,1,5.31,5.31,0,0,0,8.1,4.9,5.31,5.31,0,0,0,12,6.5,5.46,5.46,0,0,0,6.5,12Z\"/>\n",
              "  </svg>\n",
              "    </button>\n",
              "    <script>\n",
              "      (() => {\n",
              "      const buttonEl =\n",
              "        document.querySelector('#id_14209f82-af41-4b85-91d6-f2cf812f87a4 button.colab-df-generate');\n",
              "      buttonEl.style.display =\n",
              "        google.colab.kernel.accessAllowed ? 'block' : 'none';\n",
              "\n",
              "      buttonEl.onclick = () => {\n",
              "        google.colab.notebook.generateWithVariable('data_author');\n",
              "      }\n",
              "      })();\n",
              "    </script>\n",
              "  </div>\n",
              "\n",
              "    </div>\n",
              "  </div>\n"
            ],
            "application/vnd.google.colaboratory.intrinsic+json": {
              "type": "dataframe",
              "variable_name": "data_author",
              "summary": "{\n  \"name\": \"data_author\",\n  \"rows\": 551,\n  \"fields\": [\n    {\n      \"column\": \"url\",\n      \"properties\": {\n        \"dtype\": \"string\",\n        \"num_unique_values\": 551,\n        \"samples\": [\n          \"https://wolnelektury.pl/katalog/autor/zygmunt-gloger/\",\n          \"https://wolnelektury.pl/katalog/autor/casimir-delavigne/\",\n          \"https://wolnelektury.pl/katalog/autor/franciszek-karpinski/\"\n        ],\n        \"semantic_type\": \"\",\n        \"description\": \"\"\n      }\n    },\n    {\n      \"column\": \"href\",\n      \"properties\": {\n        \"dtype\": \"string\",\n        \"num_unique_values\": 551,\n        \"samples\": [\n          \"https://wolnelektury.pl/api/authors/zygmunt-gloger/\",\n          \"https://wolnelektury.pl/api/authors/casimir-delavigne/\",\n          \"https://wolnelektury.pl/api/authors/franciszek-karpinski/\"\n        ],\n        \"semantic_type\": \"\",\n        \"description\": \"\"\n      }\n    },\n    {\n      \"column\": \"name\",\n      \"properties\": {\n        \"dtype\": \"string\",\n        \"num_unique_values\": 551,\n        \"samples\": [\n          \"Zygmunt Gloger\",\n          \"Casimir Delavigne\",\n          \"Franciszek Karpi\\u0144ski\"\n        ],\n        \"semantic_type\": \"\",\n        \"description\": \"\"\n      }\n    },\n    {\n      \"column\": \"slug\",\n      \"properties\": {\n        \"dtype\": \"string\",\n        \"num_unique_values\": 551,\n        \"samples\": [\n          \"zygmunt-gloger\",\n          \"casimir-delavigne\",\n          \"franciszek-karpinski\"\n        ],\n        \"semantic_type\": \"\",\n        \"description\": \"\"\n      }\n    }\n  ]\n}"
            }
          },
          "metadata": {},
          "execution_count": 12
        }
      ]
    },
    {
      "cell_type": "code",
      "source": [
        "extract_slug(data_author, \"Adam Asnyk\")"
      ],
      "metadata": {
        "colab": {
          "base_uri": "https://localhost:8080/",
          "height": 35
        },
        "id": "nh_oMX4olniT",
        "outputId": "a09837a8-3713-45e3-c262-54667aae5124"
      },
      "execution_count": 13,
      "outputs": [
        {
          "output_type": "execute_result",
          "data": {
            "text/plain": [
              "'adam-asnyk'"
            ],
            "application/vnd.google.colaboratory.intrinsic+json": {
              "type": "string"
            }
          },
          "metadata": {},
          "execution_count": 13
        }
      ]
    },
    {
      "cell_type": "code",
      "source": [
        "save_csv(data_author, \"data_author_file\")"
      ],
      "metadata": {
        "colab": {
          "base_uri": "https://localhost:8080/"
        },
        "id": "0tcH1OP8ojY4",
        "outputId": "414b1857-f373-4747-f17c-a48c196b4648"
      },
      "execution_count": 14,
      "outputs": [
        {
          "output_type": "stream",
          "name": "stdout",
          "text": [
            "File saved\n"
          ]
        }
      ]
    },
    {
      "cell_type": "code",
      "source": [
        "!git remote add origin https://github.com/olgagasowska/Technical-Data-Analysis.git\n",
        "!git branch -M main\n",
        "!git push -u origin main"
      ],
      "metadata": {
        "id": "c3Dya8hn2YJL",
        "colab": {
          "base_uri": "https://localhost:8080/"
        },
        "outputId": "da085266-0b5c-4be3-c370-b750761a8e1c"
      },
      "execution_count": 22,
      "outputs": [
        {
          "output_type": "stream",
          "name": "stdout",
          "text": [
            "fatal: not a git repository (or any of the parent directories): .git\n",
            "fatal: not a git repository (or any of the parent directories): .git\n",
            "fatal: not a git repository (or any of the parent directories): .git\n"
          ]
        }
      ]
    }
  ]
}